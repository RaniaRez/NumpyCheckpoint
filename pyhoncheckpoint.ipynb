{
 "cells": [
  {
   "cell_type": "markdown",
   "id": "e0c2fa55-50aa-4248-829e-2ab678e57c4d",
   "metadata": {},
   "source": [
    "Question1"
   ]
  },
  {
   "cell_type": "code",
   "execution_count": null,
   "id": "e16611c9-bf9e-484a-bdf8-79081004573e",
   "metadata": {},
   "outputs": [],
   "source": [
    "#METHOD1 it's a program where we create a list filled with nmbers in the desired range, then we create another list where we put thr elements that respect the conditions\n",
    "liste=range(2000,3201)\n",
    "result=[x for x in liste if (x%7==0 and x%5!=0)]\n",
    "print(result)\n",
    "#METHOD2 USING FILTER FUNCTION, here we create a function  \n",
    "def mul_five_seven(strt,end):\n",
    "    liste=[*range(strt,end+1)]\n",
    "    result=filter(lambda x: (x % 7==0), liste)\n",
    "    result_list=list(result)\n",
    "    return result_list\n",
    "mul_five_seven(2000,3200)"
   ]
  },
  {
   "cell_type": "markdown",
   "id": "f707453b-4018-4af2-9a22-d192470568ff",
   "metadata": {},
   "source": [
    "Question2"
   ]
  },
  {
   "cell_type": "code",
   "execution_count": 7,
   "id": "2b06a212-1da6-4476-b3cd-2175295d2544",
   "metadata": {},
   "outputs": [
    {
     "data": {
      "text/plain": [
       "120"
      ]
     },
     "execution_count": 7,
     "metadata": {},
     "output_type": "execute_result"
    }
   ],
   "source": [
    "def fact(n):\n",
    "    facto=1\n",
    "    for i in range(1,n+1):\n",
    "        facto=facto*i\n",
    "    return facto\n",
    "fact(5)\n",
    "\n",
    "\n",
    "    \n",
    "        "
   ]
  },
  {
   "cell_type": "markdown",
   "id": "21ca6ac0-6f66-4d6b-9b3a-b609734fa05c",
   "metadata": {},
   "source": [
    "Question3"
   ]
  },
  {
   "cell_type": "code",
   "execution_count": 2,
   "id": "5b1b0054-ab4d-4f9b-bf6d-79a5e4fcbdf3",
   "metadata": {},
   "outputs": [
    {
     "data": {
      "text/plain": [
       "{1: 1, 2: 4, 3: 9, 4: 16, 5: 25, 6: 36, 7: 49, 8: 64}"
      ]
     },
     "execution_count": 2,
     "metadata": {},
     "output_type": "execute_result"
    }
   ],
   "source": [
    "def to_dict(n):\n",
    "    dicto={}\n",
    "    for i in range(1,n+1):\n",
    "        dicto[i]=i*i\n",
    "    return dicto\n",
    "to_dict(8)\n",
    "\n",
    "        \n",
    "    "
   ]
  },
  {
   "cell_type": "markdown",
   "id": "c143bc8c-049e-48ed-a842-7881866fc914",
   "metadata": {},
   "source": [
    "Question4\n"
   ]
  },
  {
   "cell_type": "code",
   "execution_count": 4,
   "id": "c20074ad-a114-4e91-88d9-341f1376d644",
   "metadata": {},
   "outputs": [
    {
     "data": {
      "text/plain": [
       "'Raia'"
      ]
     },
     "execution_count": 4,
     "metadata": {},
     "output_type": "execute_result"
    }
   ],
   "source": [
    "def missing_char(string,index):\n",
    "    return string[:index]+string[index+1:]\n",
    "missing_char('Rania',2)\n",
    "    "
   ]
  },
  {
   "cell_type": "markdown",
   "id": "a6563882-ec3c-42e5-b744-29ebd55cb7fb",
   "metadata": {},
   "source": [
    "Question5\n"
   ]
  },
  {
   "cell_type": "code",
   "execution_count": 5,
   "id": "9a41c225-095b-4a38-b5e8-c1680883d95a",
   "metadata": {},
   "outputs": [
    {
     "data": {
      "text/plain": [
       "[1, 2, 3]"
      ]
     },
     "execution_count": 5,
     "metadata": {},
     "output_type": "execute_result"
    }
   ],
   "source": [
    "\n",
    "import numpy as np\n",
    "def array_to_list(a):\n",
    "    return a.tolist()\n",
    "\n",
    "A=np.array([1,2,3])\n",
    "array_to_list(A)\n",
    "    \n",
    "    \n"
   ]
  },
  {
   "cell_type": "markdown",
   "id": "488768d6-a07e-4ddb-a43b-ec2d060be728",
   "metadata": {},
   "source": [
    "Question6\n"
   ]
  },
  {
   "cell_type": "code",
   "execution_count": 6,
   "id": "e99f4102-20ac-4350-971b-a45cc597f97c",
   "metadata": {},
   "outputs": [
    {
     "data": {
      "text/plain": [
       "array([[ 1., -1.],\n",
       "       [-1.,  1.]])"
      ]
     },
     "execution_count": 6,
     "metadata": {},
     "output_type": "execute_result"
    }
   ],
   "source": [
    "import numpy as np\n",
    "def cov_arrays(a,b):\n",
    "    return np.cov(a,b)\n",
    "a=np.array([0,1,2])\n",
    "b=np.array([2,1,0])\n",
    "cov_arrays(a,b)"
   ]
  },
  {
   "cell_type": "markdown",
   "id": "703fd1ee-f8b4-4243-93a6-060d797beb3c",
   "metadata": {},
   "source": [
    "Question7\n",
    "\n"
   ]
  },
  {
   "cell_type": "code",
   "execution_count": 5,
   "id": "44b1e01b-ee2e-43ba-a193-9c2a89b1f26c",
   "metadata": {},
   "outputs": [
    {
     "data": {
      "text/plain": [
       "(18, 22, 24)"
      ]
     },
     "execution_count": 5,
     "metadata": {},
     "output_type": "execute_result"
    }
   ],
   "source": [
    "from math import sqrt\n",
    "def calculate(d):\n",
    "    C=50\n",
    "    H=30\n",
    "    lst=d.split(',')\n",
    "    lst=[int(i) for i in lst]\n",
    "    form1=sqrt(2*C*lst[0]/H)\n",
    "    form2=sqrt(2*C*lst[1]/H)\n",
    "    form3=sqrt(2*C*lst[2]/H)\n",
    "    return round(form1),round(form2),round(form3)\n",
    "calculate('100,150,180')\n",
    "    \n",
    "        \n",
    "        \n",
    "        \n",
    "    "
   ]
  },
  {
   "cell_type": "code",
   "execution_count": null,
   "id": "9c286aba-2158-4db6-b925-ab0ad8f31b7e",
   "metadata": {},
   "outputs": [],
   "source": []
  },
  {
   "cell_type": "code",
   "execution_count": null,
   "id": "89fc354a-0f18-4d84-91b7-4224d5f7bb82",
   "metadata": {},
   "outputs": [],
   "source": []
  }
 ],
 "metadata": {
  "kernelspec": {
   "display_name": "Python 3 (ipykernel)",
   "language": "python",
   "name": "python3"
  },
  "language_info": {
   "codemirror_mode": {
    "name": "ipython",
    "version": 3
   },
   "file_extension": ".py",
   "mimetype": "text/x-python",
   "name": "python",
   "nbconvert_exporter": "python",
   "pygments_lexer": "ipython3",
   "version": "3.9.12"
  }
 },
 "nbformat": 4,
 "nbformat_minor": 5
}
